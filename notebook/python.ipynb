{
 "cells": [
  {
   "cell_type": "markdown",
   "id": "3010e933",
   "metadata": {},
   "source": [
    "# Setting up"
   ]
  },
  {
   "cell_type": "code",
   "execution_count": null,
   "id": "7e041fbd",
   "metadata": {},
   "outputs": [],
   "source": [
    "import pandas as pd\n",
    "from textblob import TextBlob\n",
    "from sklearn.linear_model import LogisticRegression\n",
    "from sklearn.model_selection import train_test_split\n",
    "from sklearn.metrics import accuracy_score"
   ]
  },
  {
   "cell_type": "code",
   "execution_count": null,
   "id": "b006c116",
   "metadata": {},
   "outputs": [],
   "source": [
    "# Load cleaned dataset\n",
    "df = pd.read_excel(\"cleaned_complaints.xlsx\")\n",
    "\n",
    "# Preview data\n",
    "print(\"Dataset loaded successfully!\")\n",
    "print(f\"Total records: {len(df):,}\")\n",
    "print(df.head())"
   ]
  },
  {
   "cell_type": "markdown",
   "id": "0ff65485",
   "metadata": {},
   "source": [
    "# Define Feature Set for Modeling"
   ]
  },
  {
   "cell_type": "code",
   "execution_count": null,
   "id": "03522700",
   "metadata": {},
   "outputs": [],
   "source": [
    "# Check available sentiment-related columns\n",
    "required_features = ['sentiment_polarity', 'anger_score', 'trust_score']\n",
    "optional_feature = 'sentiment_subjectivity'\n",
    "\n",
    "# Add optional feature if available\n",
    "if optional_feature in df.columns:\n",
    "    required_features.append(optional_feature)\n",
    "\n",
    "# Keep only relevant columns\n",
    "model_df = df[required_features + ['dispute_binary']].dropna()\n",
    "print(f\"\\nRecords available for modeling: {len(model_df):,}\")"
   ]
  },
  {
   "cell_type": "markdown",
   "id": "51999aec",
   "metadata": {},
   "source": [
    "# Split Data into Train/Test Sets"
   ]
  },
  {
   "cell_type": "code",
   "execution_count": null,
   "id": "8043ddff",
   "metadata": {},
   "outputs": [],
   "source": [
    "if len(model_df) > 20:\n",
    "    X_train, X_test, y_train, y_test = train_test_split(\n",
    "        model_df[required_features],\n",
    "        model_df['dispute_binary'],\n",
    "        test_size=0.3,\n",
    "        random_state=42\n",
    "    )\n",
    "else:\n",
    "    X_train, X_test, y_train, y_test = (\n",
    "        model_df[required_features],\n",
    "        model_df[required_features],\n",
    "        model_df['dispute_binary'],\n",
    "        model_df['dispute_binary']\n",
    "    )"
   ]
  },
  {
   "cell_type": "markdown",
   "id": "583a22af",
   "metadata": {},
   "source": [
    "# Train Logistic Regression Model"
   ]
  },
  {
   "cell_type": "code",
   "execution_count": null,
   "id": "6b1ef197",
   "metadata": {},
   "outputs": [],
   "source": [
    "model = LogisticRegression(random_state=42, max_iter=1000)\n",
    "model.fit(X_train, y_train)\n",
    "\n",
    "# Model accuracy\n",
    "y_pred = model.predict(X_test)\n",
    "accuracy = accuracy_score(y_test, y_pred)\n",
    "\n",
    "print(\"\\n------------------------------------------\")\n",
    "print(\" MODEL PERFORMANCE\")\n",
    "print(\"------------------------------------------\")\n",
    "print(f\"Model Accuracy: {accuracy * 100:.2f}%\")\n",
    "print(f\"Training Samples: {len(X_train):,}\")\n",
    "print(f\"Testing Samples:  {len(X_test):,}\")"
   ]
  },
  {
   "cell_type": "markdown",
   "id": "6033dcd4",
   "metadata": {},
   "source": [
    "# Interpret Model Coefficients"
   ]
  },
  {
   "cell_type": "code",
   "execution_count": null,
   "id": "4521740a",
   "metadata": {},
   "outputs": [],
   "source": [
    "coef_df = pd.DataFrame({\n",
    "    'Feature': required_features,\n",
    "    'Coefficient': model.coef_[0]\n",
    "})\n",
    "\n",
    "# Sort by importance\n",
    "coef_df['AbsValue'] = coef_df['Coefficient'].abs()\n",
    "coef_df = coef_df.sort_values('AbsValue', ascending=False).drop(columns=['AbsValue'])\n",
    "\n",
    "print(\"\\n------------------------------------------\")\n",
    "print(\" FEATURE IMPORTANCE & INTERPRETATION\")\n",
    "print(\"------------------------------------------\")\n",
    "\n",
    "for _, row in coef_df.iterrows():\n",
    "    coef = row['Coefficient']\n",
    "    direction = \"INCREASES\" if coef > 0 else \"DECREASES\"\n",
    "    magnitude = abs(coef)\n",
    "    \n",
    "    # Simple significance indicator based on magnitude\n",
    "    if magnitude > 0.5:\n",
    "        stars = \"***\"\n",
    "    elif magnitude > 0.2:\n",
    "        stars = \"**\"\n",
    "    else:\n",
    "        stars = \"*\"\n",
    "    \n",
    "    print(f\"• {row['Feature']:<22} {coef:+.3f} {stars}\")\n",
    "    print(f\"   → {direction} dispute probability\")"
   ]
  }
 ],
 "metadata": {
  "kernelspec": {
   "display_name": "base",
   "language": "python",
   "name": "python3"
  },
  "language_info": {
   "codemirror_mode": {
    "name": "ipython",
    "version": 3
   },
   "file_extension": ".py",
   "mimetype": "text/x-python",
   "name": "python",
   "nbconvert_exporter": "python",
   "pygments_lexer": "ipython3",
   "version": "3.13.5"
  }
 },
 "nbformat": 4,
 "nbformat_minor": 5
}
